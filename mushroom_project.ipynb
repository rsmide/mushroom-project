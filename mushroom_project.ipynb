{
 "cells": [
  {
   "cell_type": "code",
   "execution_count": 1,
   "id": "51d5fa76",
   "metadata": {},
   "outputs": [],
   "source": [
    "#\n",
    "## CS 462 project\n",
    "## Rasmus Smidtslund\n",
    "## 4/20/2023\n",
    "#"
   ]
  },
  {
   "cell_type": "code",
   "execution_count": 2,
   "id": "42d8f937",
   "metadata": {},
   "outputs": [],
   "source": [
    "import pandas as pd\n",
    "import numpy as np\n",
    "import matplotlib.pyplot as plt\n",
    "import seaborn as sns\n",
    "\n",
    "from sklearn.model_selection import train_test_split\n",
    "\n",
    "from sklearn.preprocessing import OrdinalEncoder # used for feature selection\n",
    "from sklearn.preprocessing import OneHotEncoder \n",
    "from sklearn.naive_bayes import CategoricalNB\n",
    "from sklearn.neighbors import KNeighborsClassifier\n",
    "from sklearn.metrics import classification_report, confusion_matrix, accuracy_score\n",
    "\n",
    "from sklearn.feature_selection import SelectKBest\n",
    "from sklearn.feature_selection import chi2\n",
    "from sklearn.feature_selection import mutual_info_classif\n",
    "\n",
    "from sklearn.preprocessing import LabelEncoder\n",
    "from sklearn.model_selection import KFold\n",
    "\n",
    "from sklearn import tree\n",
    "\n",
    "import copy as cp\n",
    "from typing import Tuple\n",
    "\n",
    "from sklearn import metrics"
   ]
  },
  {
   "cell_type": "code",
   "execution_count": 3,
   "id": "8dead67b",
   "metadata": {},
   "outputs": [],
   "source": [
    "## read and explore data\n",
    "data = pd.read_csv(\"mushrooms.csv\")"
   ]
  },
  {
   "cell_type": "code",
   "execution_count": 4,
   "id": "4eafab30",
   "metadata": {},
   "outputs": [
    {
     "name": "stdout",
     "output_type": "stream",
     "text": [
      "<class 'pandas.core.frame.DataFrame'>\n",
      "RangeIndex: 8124 entries, 0 to 8123\n",
      "Data columns (total 23 columns):\n",
      " #   Column                    Non-Null Count  Dtype \n",
      "---  ------                    --------------  ----- \n",
      " 0   class                     8124 non-null   object\n",
      " 1   cap-shape                 8124 non-null   object\n",
      " 2   cap-surface               8124 non-null   object\n",
      " 3   cap-color                 8124 non-null   object\n",
      " 4   bruises                   8124 non-null   object\n",
      " 5   odor                      8124 non-null   object\n",
      " 6   gill-attachment           8124 non-null   object\n",
      " 7   gill-spacing              8124 non-null   object\n",
      " 8   gill-size                 8124 non-null   object\n",
      " 9   gill-color                8124 non-null   object\n",
      " 10  stalk-shape               8124 non-null   object\n",
      " 11  stalk-root                8124 non-null   object\n",
      " 12  stalk-surface-above-ring  8124 non-null   object\n",
      " 13  stalk-surface-below-ring  8124 non-null   object\n",
      " 14  stalk-color-above-ring    8124 non-null   object\n",
      " 15  stalk-color-below-ring    8124 non-null   object\n",
      " 16  veil-type                 8124 non-null   object\n",
      " 17  veil-color                8124 non-null   object\n",
      " 18  ring-number               8124 non-null   object\n",
      " 19  ring-type                 8124 non-null   object\n",
      " 20  spore-print-color         8124 non-null   object\n",
      " 21  population                8124 non-null   object\n",
      " 22  habitat                   8124 non-null   object\n",
      "dtypes: object(23)\n",
      "memory usage: 1.4+ MB\n"
     ]
    }
   ],
   "source": [
    "data.info()"
   ]
  },
  {
   "cell_type": "code",
   "execution_count": 5,
   "id": "71238243",
   "metadata": {},
   "outputs": [
    {
     "data": {
      "text/html": [
       "<div>\n",
       "<style scoped>\n",
       "    .dataframe tbody tr th:only-of-type {\n",
       "        vertical-align: middle;\n",
       "    }\n",
       "\n",
       "    .dataframe tbody tr th {\n",
       "        vertical-align: top;\n",
       "    }\n",
       "\n",
       "    .dataframe thead th {\n",
       "        text-align: right;\n",
       "    }\n",
       "</style>\n",
       "<table border=\"1\" class=\"dataframe\">\n",
       "  <thead>\n",
       "    <tr style=\"text-align: right;\">\n",
       "      <th></th>\n",
       "      <th>class</th>\n",
       "      <th>cap-shape</th>\n",
       "      <th>cap-surface</th>\n",
       "      <th>cap-color</th>\n",
       "      <th>bruises</th>\n",
       "      <th>odor</th>\n",
       "      <th>gill-attachment</th>\n",
       "      <th>gill-spacing</th>\n",
       "      <th>gill-size</th>\n",
       "      <th>gill-color</th>\n",
       "      <th>...</th>\n",
       "      <th>stalk-surface-below-ring</th>\n",
       "      <th>stalk-color-above-ring</th>\n",
       "      <th>stalk-color-below-ring</th>\n",
       "      <th>veil-type</th>\n",
       "      <th>veil-color</th>\n",
       "      <th>ring-number</th>\n",
       "      <th>ring-type</th>\n",
       "      <th>spore-print-color</th>\n",
       "      <th>population</th>\n",
       "      <th>habitat</th>\n",
       "    </tr>\n",
       "  </thead>\n",
       "  <tbody>\n",
       "    <tr>\n",
       "      <th>count</th>\n",
       "      <td>8124</td>\n",
       "      <td>8124</td>\n",
       "      <td>8124</td>\n",
       "      <td>8124</td>\n",
       "      <td>8124</td>\n",
       "      <td>8124</td>\n",
       "      <td>8124</td>\n",
       "      <td>8124</td>\n",
       "      <td>8124</td>\n",
       "      <td>8124</td>\n",
       "      <td>...</td>\n",
       "      <td>8124</td>\n",
       "      <td>8124</td>\n",
       "      <td>8124</td>\n",
       "      <td>8124</td>\n",
       "      <td>8124</td>\n",
       "      <td>8124</td>\n",
       "      <td>8124</td>\n",
       "      <td>8124</td>\n",
       "      <td>8124</td>\n",
       "      <td>8124</td>\n",
       "    </tr>\n",
       "    <tr>\n",
       "      <th>unique</th>\n",
       "      <td>2</td>\n",
       "      <td>6</td>\n",
       "      <td>4</td>\n",
       "      <td>10</td>\n",
       "      <td>2</td>\n",
       "      <td>9</td>\n",
       "      <td>2</td>\n",
       "      <td>2</td>\n",
       "      <td>2</td>\n",
       "      <td>12</td>\n",
       "      <td>...</td>\n",
       "      <td>4</td>\n",
       "      <td>9</td>\n",
       "      <td>9</td>\n",
       "      <td>1</td>\n",
       "      <td>4</td>\n",
       "      <td>3</td>\n",
       "      <td>5</td>\n",
       "      <td>9</td>\n",
       "      <td>6</td>\n",
       "      <td>7</td>\n",
       "    </tr>\n",
       "    <tr>\n",
       "      <th>top</th>\n",
       "      <td>e</td>\n",
       "      <td>x</td>\n",
       "      <td>y</td>\n",
       "      <td>n</td>\n",
       "      <td>f</td>\n",
       "      <td>n</td>\n",
       "      <td>f</td>\n",
       "      <td>c</td>\n",
       "      <td>b</td>\n",
       "      <td>b</td>\n",
       "      <td>...</td>\n",
       "      <td>s</td>\n",
       "      <td>w</td>\n",
       "      <td>w</td>\n",
       "      <td>p</td>\n",
       "      <td>w</td>\n",
       "      <td>o</td>\n",
       "      <td>p</td>\n",
       "      <td>w</td>\n",
       "      <td>v</td>\n",
       "      <td>d</td>\n",
       "    </tr>\n",
       "    <tr>\n",
       "      <th>freq</th>\n",
       "      <td>4208</td>\n",
       "      <td>3656</td>\n",
       "      <td>3244</td>\n",
       "      <td>2284</td>\n",
       "      <td>4748</td>\n",
       "      <td>3528</td>\n",
       "      <td>7914</td>\n",
       "      <td>6812</td>\n",
       "      <td>5612</td>\n",
       "      <td>1728</td>\n",
       "      <td>...</td>\n",
       "      <td>4936</td>\n",
       "      <td>4464</td>\n",
       "      <td>4384</td>\n",
       "      <td>8124</td>\n",
       "      <td>7924</td>\n",
       "      <td>7488</td>\n",
       "      <td>3968</td>\n",
       "      <td>2388</td>\n",
       "      <td>4040</td>\n",
       "      <td>3148</td>\n",
       "    </tr>\n",
       "  </tbody>\n",
       "</table>\n",
       "<p>4 rows × 23 columns</p>\n",
       "</div>"
      ],
      "text/plain": [
       "       class cap-shape cap-surface cap-color bruises  odor gill-attachment  \\\n",
       "count   8124      8124        8124      8124    8124  8124            8124   \n",
       "unique     2         6           4        10       2     9               2   \n",
       "top        e         x           y         n       f     n               f   \n",
       "freq    4208      3656        3244      2284    4748  3528            7914   \n",
       "\n",
       "       gill-spacing gill-size gill-color  ... stalk-surface-below-ring  \\\n",
       "count          8124      8124       8124  ...                     8124   \n",
       "unique            2         2         12  ...                        4   \n",
       "top               c         b          b  ...                        s   \n",
       "freq           6812      5612       1728  ...                     4936   \n",
       "\n",
       "       stalk-color-above-ring stalk-color-below-ring veil-type veil-color  \\\n",
       "count                    8124                   8124      8124       8124   \n",
       "unique                      9                      9         1          4   \n",
       "top                         w                      w         p          w   \n",
       "freq                     4464                   4384      8124       7924   \n",
       "\n",
       "       ring-number ring-type spore-print-color population habitat  \n",
       "count         8124      8124              8124       8124    8124  \n",
       "unique           3         5                 9          6       7  \n",
       "top              o         p                 w          v       d  \n",
       "freq          7488      3968              2388       4040    3148  \n",
       "\n",
       "[4 rows x 23 columns]"
      ]
     },
     "execution_count": 5,
     "metadata": {},
     "output_type": "execute_result"
    }
   ],
   "source": [
    "data.describe()"
   ]
  },
  {
   "cell_type": "code",
   "execution_count": 6,
   "id": "d717f14e",
   "metadata": {},
   "outputs": [
    {
     "name": "stderr",
     "output_type": "stream",
     "text": [
      "C:\\Users\\rsmid\\AppData\\Local\\Temp/ipykernel_40252/570997909.py:5: RuntimeWarning: More than 20 figures have been opened. Figures created through the pyplot interface (`matplotlib.pyplot.figure`) are retained until explicitly closed and may consume too much memory. (To control this warning, see the rcParam `figure.max_open_warning`).\n",
      "  fig = plt.subplots(1, 1, figsize=(10,4))\n"
     ]
    },
    {
     "data": {
      "image/png": "[encoded data removed]",
      "text/plain": [
       "<Figure size 720x288 with 1 Axes>"
      ]
     },
     "metadata": {
      "needs_background": "light"
     },
     "output_type": "display_data"
    },
    {
     "data": {
      "image/png": "[encoded data removed]",
      "text/plain": [
       "<Figure size 720x288 with 1 Axes>"
      ]
     },
     "metadata": {
      "needs_background": "light"
     },
     "output_type": "display_data"
    },
    {
     "data": {
      "image/png": "[encoded data removed]",
      "text/plain": [
       "<Figure size 720x288 with 1 Axes>"
      ]
     },
     "metadata": {
      "needs_background": "light"
     },
     "output_type": "display_data"
    },
    {
     "data": {
      "image/png": "[encoded data removed]",
      "text/plain": [
       "<Figure size 720x288 with 1 Axes>"
      ]
     },
     "metadata": {
      "needs_background": "light"
     },
     "output_type": "display_data"
    },
    {
     "data": {
      "image/png": "[encoded data removed]",
      "text/plain": [
       "<Figure size 720x288 with 1 Axes>"
      ]
     },
     "metadata": {
      "needs_background": "light"
     },
     "output_type": "display_data"
    },
    {
     "data": {
      "image/png": "[encoded data removed]",
      "text/plain": [
       "<Figure size 720x288 with 1 Axes>"
      ]
     },
     "metadata": {
      "needs_background": "light"
     },
     "output_type": "display_data"
    },
    {
     "data": {
      "image/png": "[encoded data removed]",
      "text/plain": [
       "<Figure size 720x288 with 1 Axes>"
      ]
     },
     "metadata": {
      "needs_background": "light"
     },
     "output_type": "display_data"
    },
    {
     "data": {
      "image/png": "[encoded data removed]",
      "text/plain": [
       "<Figure size 720x288 with 1 Axes>"
      ]
     },
     "metadata": {
      "needs_background": "light"
     },
     "output_type": "display_data"
    },
    {
     "data": {
      "image/png": "[encoded data removed]",
      "text/plain": [
       "<Figure size 720x288 with 1 Axes>"
      ]
     },
     "metadata": {
      "needs_background": "light"
     },
     "output_type": "display_data"
    },
    {
     "data": {
      "image/png": "[encoded data removed]",
      "text/plain": [
       "<Figure size 720x288 with 1 Axes>"
      ]
     },
     "metadata": {
      "needs_background": "light"
     },
     "output_type": "display_data"
    },
    {
     "data": {
      "image/png": "[encoded data removed]",
      "text/plain": [
       "<Figure size 720x288 with 1 Axes>"
      ]
     },
     "metadata": {
      "needs_background": "light"
     },
     "output_type": "display_data"
    },
    {
     "data": {
      "image/png": "[encoded data removed]",
      "text/plain": [
       "<Figure size 720x288 with 1 Axes>"
      ]
     },
     "metadata": {
      "needs_background": "light"
     },
     "output_type": "display_data"
    },
    {
     "data": {
      "image/png": "[encoded data removed]",
      "text/plain": [
       "<Figure size 720x288 with 1 Axes>"
      ]
     },
     "metadata": {
      "needs_background": "light"
     },
     "output_type": "display_data"
    },
    {
     "data": {
      "image/png": "[encoded data removed]",
      "text/plain": [
       "<Figure size 720x288 with 1 Axes>"
      ]
     },
     "metadata": {
      "needs_background": "light"
     },
     "output_type": "display_data"
    },
    {
     "data": {
      "image/png": "[encoded data removed]",
      "text/plain": [
       "<Figure size 720x288 with 1 Axes>"
      ]
     },
     "metadata": {
      "needs_background": "light"
     },
     "output_type": "display_data"
    },
    {
     "data": {
      "image/png": "[encoded data removed]",
      "text/plain": [
       "<Figure size 720x288 with 1 Axes>"
      ]
     },
     "metadata": {
      "needs_background": "light"
     },
     "output_type": "display_data"
    },
    {
     "data": {
      "image/png": "[encoded data removed]",
      "text/plain": [
       "<Figure size 720x288 with 1 Axes>"
      ]
     },
     "metadata": {
      "needs_background": "light"
     },
     "output_type": "display_data"
    },
    {
     "data": {
      "image/png": "[encoded data removed]",
      "text/plain": [
       "<Figure size 720x288 with 1 Axes>"
      ]
     },
     "metadata": {
      "needs_background": "light"
     },
     "output_type": "display_data"
    },
    {
     "data": {
      "image/png": "[encoded data removed]",
      "text/plain": [
       "<Figure size 720x288 with 1 Axes>"
      ]
     },
     "metadata": {
      "needs_background": "light"
     },
     "output_type": "display_data"
    },
    {
     "data": {
      "image/png": "[encoded data removed]",
      "text/plain": [
       "<Figure size 720x288 with 1 Axes>"
      ]
     },
     "metadata": {
      "needs_background": "light"
     },
     "output_type": "display_data"
    },
    {
     "data": {
      "image/png": "[encoded data removed]",
      "text/plain": [
       "<Figure size 720x288 with 1 Axes>"
      ]
     },
     "metadata": {
      "needs_background": "light"
     },
     "output_type": "display_data"
    },
    {
     "data": {
      "image/png": "[encoded data removed]",
      "text/plain": [
       "<Figure size 720x288 with 1 Axes>"
      ]
     },
     "metadata": {
      "needs_background": "light"
     },
     "output_type": "display_data"
    },
    {
     "data": {
      "image/png": "[encoded data removed]",
      "text/plain": [
       "<Figure size 720x288 with 1 Axes>"
      ]
     },
     "metadata": {
      "needs_background": "light"
     },
     "output_type": "display_data"
    }
   ],
   "source": [
    "## visualize each attribute (all categorical)\n",
    "\n",
    "nom_attributes = data.select_dtypes(include=[object]).columns\n",
    "for col in nom_attributes:\n",
    "    fig = plt.subplots(1, 1, figsize=(10,4))\n",
    "    sns.histplot(data=data, x=col)"
   ]
  },
  {
   "cell_type": "code",
   "execution_count": 7,
   "id": "9af87e5b",
   "metadata": {},
   "outputs": [],
   "source": [
    "#\n",
    "## findings\n",
    "#\n",
    "\n",
    "# distribution between poisonous and edible close to equal (good thing) -> binary classification\n",
    "# 'veil-type' only one class (remove)\n",
    "# 'bruises' (T/F), 'gill-attachment', 'gill-spacing', 'gill-size', 'stalk-shape' have only two classes"
   ]
  },
  {
   "cell_type": "code",
   "execution_count": 8,
   "id": "413abe73",
   "metadata": {},
   "outputs": [],
   "source": [
    "## remove attribute 'veil-type'\n",
    "data.drop(columns=['veil-type'],inplace=True)"
   ]
  },
  {
   "cell_type": "code",
   "execution_count": 9,
   "id": "297d3b66",
   "metadata": {},
   "outputs": [],
   "source": [
    "#\n",
    "## NEXT STEPS\n",
    "### encoding\n",
    "### feature selection using either Chi-Squared Feature Selection or Mutual Information Feature Selection\n",
    "### https://machinelearningmastery.com/feature-selection-with-categorical-data/\n",
    "#"
   ]
  },
  {
   "cell_type": "code",
   "execution_count": 10,
   "id": "01d33dbe",
   "metadata": {},
   "outputs": [],
   "source": [
    "## split data into input (X) and output (y) variables\n",
    "dataset = data.values\n",
    "X = dataset[:,1::]\n",
    "y = dataset[:,0:1]"
   ]
  },
  {
   "cell_type": "code",
   "execution_count": 11,
   "id": "bcfc22df",
   "metadata": {},
   "outputs": [
    {
     "data": {
      "text/plain": [
       "((8124, 21), (8124, 1))"
      ]
     },
     "execution_count": 11,
     "metadata": {},
     "output_type": "execute_result"
    }
   ],
   "source": [
    "X.shape, y.shape"
   ]
  },
  {
   "cell_type": "code",
   "execution_count": 12,
   "id": "a84ab5d7",
   "metadata": {},
   "outputs": [],
   "source": [
    "#\n",
    "## Architecture notes\n",
    "### first split data into training and validation so that there will be unseen data once the full model is complete \n",
    "### 20% for validation\n",
    "#"
   ]
  },
  {
   "cell_type": "code",
   "execution_count": 13,
   "id": "559d68ac",
   "metadata": {},
   "outputs": [],
   "source": [
    "## split data into training (for cv) and validation\n",
    "X1, X_valid, y1, y_valid = train_test_split(X, y, test_size=0.20, random_state=51)"
   ]
  },
  {
   "cell_type": "code",
   "execution_count": 14,
   "id": "2971047b",
   "metadata": {},
   "outputs": [
    {
     "data": {
      "text/plain": [
       "((6499, 21), (6499, 1), (1625, 21), (1625, 1))"
      ]
     },
     "execution_count": 14,
     "metadata": {},
     "output_type": "execute_result"
    }
   ],
   "source": [
    "X1.shape, y1.shape, X_valid.shape, y_valid.shape"
   ]
  },
  {
   "cell_type": "code",
   "execution_count": 15,
   "id": "e0945d03",
   "metadata": {},
   "outputs": [],
   "source": [
    "## create a dataframe of validation data\n",
    "attribute_names = list(data.columns)[1::]\n",
    "validation_data = pd.DataFrame(data=X_valid, columns=attribute_names)\n",
    "validation_data['class']=y_valid"
   ]
  },
  {
   "cell_type": "code",
   "execution_count": 16,
   "id": "02a4ddbf",
   "metadata": {},
   "outputs": [
    {
     "data": {
      "text/html": [
       "<div>\n",
       "<style scoped>\n",
       "    .dataframe tbody tr th:only-of-type {\n",
       "        vertical-align: middle;\n",
       "    }\n",
       "\n",
       "    .dataframe tbody tr th {\n",
       "        vertical-align: top;\n",
       "    }\n",
       "\n",
       "    .dataframe thead th {\n",
       "        text-align: right;\n",
       "    }\n",
       "</style>\n",
       "<table border=\"1\" class=\"dataframe\">\n",
       "  <thead>\n",
       "    <tr style=\"text-align: right;\">\n",
       "      <th></th>\n",
       "      <th>cap-shape</th>\n",
       "      <th>cap-surface</th>\n",
       "      <th>cap-color</th>\n",
       "      <th>bruises</th>\n",
       "      <th>odor</th>\n",
       "      <th>gill-attachment</th>\n",
       "      <th>gill-spacing</th>\n",
       "      <th>gill-size</th>\n",
       "      <th>gill-color</th>\n",
       "      <th>stalk-shape</th>\n",
       "      <th>...</th>\n",
       "      <th>stalk-surface-below-ring</th>\n",
       "      <th>stalk-color-above-ring</th>\n",
       "      <th>stalk-color-below-ring</th>\n",
       "      <th>veil-color</th>\n",
       "      <th>ring-number</th>\n",
       "      <th>ring-type</th>\n",
       "      <th>spore-print-color</th>\n",
       "      <th>population</th>\n",
       "      <th>habitat</th>\n",
       "      <th>class</th>\n",
       "    </tr>\n",
       "  </thead>\n",
       "  <tbody>\n",
       "    <tr>\n",
       "      <th>0</th>\n",
       "      <td>x</td>\n",
       "      <td>y</td>\n",
       "      <td>n</td>\n",
       "      <td>t</td>\n",
       "      <td>n</td>\n",
       "      <td>f</td>\n",
       "      <td>c</td>\n",
       "      <td>b</td>\n",
       "      <td>e</td>\n",
       "      <td>e</td>\n",
       "      <td>...</td>\n",
       "      <td>s</td>\n",
       "      <td>w</td>\n",
       "      <td>e</td>\n",
       "      <td>w</td>\n",
       "      <td>t</td>\n",
       "      <td>e</td>\n",
       "      <td>w</td>\n",
       "      <td>c</td>\n",
       "      <td>w</td>\n",
       "      <td>e</td>\n",
       "    </tr>\n",
       "    <tr>\n",
       "      <th>1</th>\n",
       "      <td>f</td>\n",
       "      <td>y</td>\n",
       "      <td>y</td>\n",
       "      <td>f</td>\n",
       "      <td>f</td>\n",
       "      <td>f</td>\n",
       "      <td>c</td>\n",
       "      <td>b</td>\n",
       "      <td>h</td>\n",
       "      <td>e</td>\n",
       "      <td>...</td>\n",
       "      <td>k</td>\n",
       "      <td>p</td>\n",
       "      <td>b</td>\n",
       "      <td>w</td>\n",
       "      <td>o</td>\n",
       "      <td>l</td>\n",
       "      <td>h</td>\n",
       "      <td>v</td>\n",
       "      <td>d</td>\n",
       "      <td>p</td>\n",
       "    </tr>\n",
       "    <tr>\n",
       "      <th>2</th>\n",
       "      <td>x</td>\n",
       "      <td>y</td>\n",
       "      <td>w</td>\n",
       "      <td>t</td>\n",
       "      <td>l</td>\n",
       "      <td>f</td>\n",
       "      <td>c</td>\n",
       "      <td>b</td>\n",
       "      <td>g</td>\n",
       "      <td>e</td>\n",
       "      <td>...</td>\n",
       "      <td>s</td>\n",
       "      <td>w</td>\n",
       "      <td>w</td>\n",
       "      <td>w</td>\n",
       "      <td>o</td>\n",
       "      <td>p</td>\n",
       "      <td>k</td>\n",
       "      <td>s</td>\n",
       "      <td>g</td>\n",
       "      <td>e</td>\n",
       "    </tr>\n",
       "    <tr>\n",
       "      <th>3</th>\n",
       "      <td>f</td>\n",
       "      <td>f</td>\n",
       "      <td>g</td>\n",
       "      <td>f</td>\n",
       "      <td>n</td>\n",
       "      <td>f</td>\n",
       "      <td>w</td>\n",
       "      <td>b</td>\n",
       "      <td>n</td>\n",
       "      <td>t</td>\n",
       "      <td>...</td>\n",
       "      <td>s</td>\n",
       "      <td>w</td>\n",
       "      <td>w</td>\n",
       "      <td>w</td>\n",
       "      <td>o</td>\n",
       "      <td>e</td>\n",
       "      <td>n</td>\n",
       "      <td>s</td>\n",
       "      <td>g</td>\n",
       "      <td>e</td>\n",
       "    </tr>\n",
       "    <tr>\n",
       "      <th>4</th>\n",
       "      <td>x</td>\n",
       "      <td>y</td>\n",
       "      <td>e</td>\n",
       "      <td>t</td>\n",
       "      <td>n</td>\n",
       "      <td>f</td>\n",
       "      <td>c</td>\n",
       "      <td>b</td>\n",
       "      <td>w</td>\n",
       "      <td>t</td>\n",
       "      <td>...</td>\n",
       "      <td>s</td>\n",
       "      <td>w</td>\n",
       "      <td>w</td>\n",
       "      <td>w</td>\n",
       "      <td>o</td>\n",
       "      <td>p</td>\n",
       "      <td>n</td>\n",
       "      <td>y</td>\n",
       "      <td>d</td>\n",
       "      <td>e</td>\n",
       "    </tr>\n",
       "  </tbody>\n",
       "</table>\n",
       "<p>5 rows × 22 columns</p>\n",
       "</div>"
      ],
      "text/plain": [
       "  cap-shape cap-surface cap-color bruises odor gill-attachment gill-spacing  \\\n",
       "0         x           y         n       t    n               f            c   \n",
       "1         f           y         y       f    f               f            c   \n",
       "2         x           y         w       t    l               f            c   \n",
       "3         f           f         g       f    n               f            w   \n",
       "4         x           y         e       t    n               f            c   \n",
       "\n",
       "  gill-size gill-color stalk-shape  ... stalk-surface-below-ring  \\\n",
       "0         b          e           e  ...                        s   \n",
       "1         b          h           e  ...                        k   \n",
       "2         b          g           e  ...                        s   \n",
       "3         b          n           t  ...                        s   \n",
       "4         b          w           t  ...                        s   \n",
       "\n",
       "  stalk-color-above-ring stalk-color-below-ring veil-color ring-number  \\\n",
       "0                      w                      e          w           t   \n",
       "1                      p                      b          w           o   \n",
       "2                      w                      w          w           o   \n",
       "3                      w                      w          w           o   \n",
       "4                      w                      w          w           o   \n",
       "\n",
       "  ring-type spore-print-color population habitat class  \n",
       "0         e                 w          c       w     e  \n",
       "1         l                 h          v       d     p  \n",
       "2         p                 k          s       g     e  \n",
       "3         e                 n          s       g     e  \n",
       "4         p                 n          y       d     e  \n",
       "\n",
       "[5 rows x 22 columns]"
      ]
     },
     "execution_count": 16,
     "metadata": {},
     "output_type": "execute_result"
    }
   ],
   "source": [
    "validation_data.head()"
   ]
  },
  {
   "cell_type": "code",
   "execution_count": 17,
   "id": "267ff8c3",
   "metadata": {},
   "outputs": [
    {
     "data": {
      "text/html": [
       "<div>\n",
       "<style scoped>\n",
       "    .dataframe tbody tr th:only-of-type {\n",
       "        vertical-align: middle;\n",
       "    }\n",
       "\n",
       "    .dataframe tbody tr th {\n",
       "        vertical-align: top;\n",
       "    }\n",
       "\n",
       "    .dataframe thead th {\n",
       "        text-align: right;\n",
       "    }\n",
       "</style>\n",
       "<table border=\"1\" class=\"dataframe\">\n",
       "  <thead>\n",
       "    <tr style=\"text-align: right;\">\n",
       "      <th></th>\n",
       "      <th>cap-shape</th>\n",
       "      <th>cap-surface</th>\n",
       "      <th>cap-color</th>\n",
       "      <th>bruises</th>\n",
       "      <th>odor</th>\n",
       "      <th>gill-attachment</th>\n",
       "      <th>gill-spacing</th>\n",
       "      <th>gill-size</th>\n",
       "      <th>gill-color</th>\n",
       "      <th>stalk-shape</th>\n",
       "      <th>...</th>\n",
       "      <th>stalk-surface-below-ring</th>\n",
       "      <th>stalk-color-above-ring</th>\n",
       "      <th>stalk-color-below-ring</th>\n",
       "      <th>veil-color</th>\n",
       "      <th>ring-number</th>\n",
       "      <th>ring-type</th>\n",
       "      <th>spore-print-color</th>\n",
       "      <th>population</th>\n",
       "      <th>habitat</th>\n",
       "      <th>class</th>\n",
       "    </tr>\n",
       "  </thead>\n",
       "  <tbody>\n",
       "    <tr>\n",
       "      <th>count</th>\n",
       "      <td>1625</td>\n",
       "      <td>1625</td>\n",
       "      <td>1625</td>\n",
       "      <td>1625</td>\n",
       "      <td>1625</td>\n",
       "      <td>1625</td>\n",
       "      <td>1625</td>\n",
       "      <td>1625</td>\n",
       "      <td>1625</td>\n",
       "      <td>1625</td>\n",
       "      <td>...</td>\n",
       "      <td>1625</td>\n",
       "      <td>1625</td>\n",
       "      <td>1625</td>\n",
       "      <td>1625</td>\n",
       "      <td>1625</td>\n",
       "      <td>1625</td>\n",
       "      <td>1625</td>\n",
       "      <td>1625</td>\n",
       "      <td>1625</td>\n",
       "      <td>1625</td>\n",
       "    </tr>\n",
       "    <tr>\n",
       "      <th>unique</th>\n",
       "      <td>6</td>\n",
       "      <td>3</td>\n",
       "      <td>10</td>\n",
       "      <td>2</td>\n",
       "      <td>9</td>\n",
       "      <td>2</td>\n",
       "      <td>2</td>\n",
       "      <td>2</td>\n",
       "      <td>12</td>\n",
       "      <td>2</td>\n",
       "      <td>...</td>\n",
       "      <td>4</td>\n",
       "      <td>9</td>\n",
       "      <td>9</td>\n",
       "      <td>4</td>\n",
       "      <td>3</td>\n",
       "      <td>5</td>\n",
       "      <td>9</td>\n",
       "      <td>6</td>\n",
       "      <td>7</td>\n",
       "      <td>2</td>\n",
       "    </tr>\n",
       "    <tr>\n",
       "      <th>top</th>\n",
       "      <td>x</td>\n",
       "      <td>y</td>\n",
       "      <td>n</td>\n",
       "      <td>f</td>\n",
       "      <td>n</td>\n",
       "      <td>f</td>\n",
       "      <td>c</td>\n",
       "      <td>b</td>\n",
       "      <td>b</td>\n",
       "      <td>t</td>\n",
       "      <td>...</td>\n",
       "      <td>s</td>\n",
       "      <td>w</td>\n",
       "      <td>w</td>\n",
       "      <td>w</td>\n",
       "      <td>o</td>\n",
       "      <td>p</td>\n",
       "      <td>w</td>\n",
       "      <td>v</td>\n",
       "      <td>d</td>\n",
       "      <td>e</td>\n",
       "    </tr>\n",
       "    <tr>\n",
       "      <th>freq</th>\n",
       "      <td>723</td>\n",
       "      <td>652</td>\n",
       "      <td>449</td>\n",
       "      <td>949</td>\n",
       "      <td>723</td>\n",
       "      <td>1591</td>\n",
       "      <td>1354</td>\n",
       "      <td>1125</td>\n",
       "      <td>343</td>\n",
       "      <td>929</td>\n",
       "      <td>...</td>\n",
       "      <td>982</td>\n",
       "      <td>899</td>\n",
       "      <td>889</td>\n",
       "      <td>1594</td>\n",
       "      <td>1485</td>\n",
       "      <td>788</td>\n",
       "      <td>481</td>\n",
       "      <td>788</td>\n",
       "      <td>632</td>\n",
       "      <td>855</td>\n",
       "    </tr>\n",
       "  </tbody>\n",
       "</table>\n",
       "<p>4 rows × 22 columns</p>\n",
       "</div>"
      ],
      "text/plain": [
       "       cap-shape cap-surface cap-color bruises  odor gill-attachment  \\\n",
       "count       1625        1625      1625    1625  1625            1625   \n",
       "unique         6           3        10       2     9               2   \n",
       "top            x           y         n       f     n               f   \n",
       "freq         723         652       449     949   723            1591   \n",
       "\n",
       "       gill-spacing gill-size gill-color stalk-shape  ...  \\\n",
       "count          1625      1625       1625        1625  ...   \n",
       "unique            2         2         12           2  ...   \n",
       "top               c         b          b           t  ...   \n",
       "freq           1354      1125        343         929  ...   \n",
       "\n",
       "       stalk-surface-below-ring stalk-color-above-ring stalk-color-below-ring  \\\n",
       "count                      1625                   1625                   1625   \n",
       "unique                        4                      9                      9   \n",
       "top                           s                      w                      w   \n",
       "freq                        982                    899                    889   \n",
       "\n",
       "       veil-color ring-number ring-type spore-print-color population habitat  \\\n",
       "count        1625        1625      1625              1625       1625    1625   \n",
       "unique          4           3         5                 9          6       7   \n",
       "top             w           o         p                 w          v       d   \n",
       "freq         1594        1485       788               481        788     632   \n",
       "\n",
       "       class  \n",
       "count   1625  \n",
       "unique     2  \n",
       "top        e  \n",
       "freq     855  \n",
       "\n",
       "[4 rows x 22 columns]"
      ]
     },
     "execution_count": 17,
     "metadata": {},
     "output_type": "execute_result"
    }
   ],
   "source": [
    "validation_data.describe()"
   ]
  },
  {
   "cell_type": "code",
   "execution_count": 18,
   "id": "373fca3d",
   "metadata": {},
   "outputs": [
    {
     "data": {
      "text/plain": [
       "<AxesSubplot:xlabel='class', ylabel='Count'>"
      ]
     },
     "execution_count": 18,
     "metadata": {},
     "output_type": "execute_result"
    },
    {
     "data": {
      "image/png": "[encoded data removed]",
      "text/plain": [
       "<Figure size 432x288 with 1 Axes>"
      ]
     },
     "metadata": {
      "needs_background": "light"
     },
     "output_type": "display_data"
    }
   ],
   "source": [
    "## check the distribution of 'class' in the validation data\n",
    "sns.histplot(data=validation_data, x='class')"
   ]
  },
  {
   "cell_type": "code",
   "execution_count": 19,
   "id": "b9abcf56",
   "metadata": {},
   "outputs": [],
   "source": [
    "## NEXT\n",
    "### get a benchmark by trying a simple approach (Naive Bayes, K-NN) before feature selection\n",
    "\n",
    "## create a dataframe of training&testing data\n",
    "attribute_names = list(data.columns)[1::]\n",
    "training_data = pd.DataFrame(data=X1, columns=attribute_names)\n",
    "training_data['class']=y1"
   ]
  },
  {
   "cell_type": "code",
   "execution_count": 20,
   "id": "6def630a",
   "metadata": {},
   "outputs": [
    {
     "data": {
      "text/html": [
       "<div>\n",
       "<style scoped>\n",
       "    .dataframe tbody tr th:only-of-type {\n",
       "        vertical-align: middle;\n",
       "    }\n",
       "\n",
       "    .dataframe tbody tr th {\n",
       "        vertical-align: top;\n",
       "    }\n",
       "\n",
       "    .dataframe thead th {\n",
       "        text-align: right;\n",
       "    }\n",
       "</style>\n",
       "<table border=\"1\" class=\"dataframe\">\n",
       "  <thead>\n",
       "    <tr style=\"text-align: right;\">\n",
       "      <th></th>\n",
       "      <th>cap-shape</th>\n",
       "      <th>cap-surface</th>\n",
       "      <th>cap-color</th>\n",
       "      <th>bruises</th>\n",
       "      <th>odor</th>\n",
       "      <th>gill-attachment</th>\n",
       "      <th>gill-spacing</th>\n",
       "      <th>gill-size</th>\n",
       "      <th>gill-color</th>\n",
       "      <th>stalk-shape</th>\n",
       "      <th>...</th>\n",
       "      <th>stalk-surface-below-ring</th>\n",
       "      <th>stalk-color-above-ring</th>\n",
       "      <th>stalk-color-below-ring</th>\n",
       "      <th>veil-color</th>\n",
       "      <th>ring-number</th>\n",
       "      <th>ring-type</th>\n",
       "      <th>spore-print-color</th>\n",
       "      <th>population</th>\n",
       "      <th>habitat</th>\n",
       "      <th>class</th>\n",
       "    </tr>\n",
       "  </thead>\n",
       "  <tbody>\n",
       "    <tr>\n",
       "      <th>count</th>\n",
       "      <td>6499</td>\n",
       "      <td>6499</td>\n",
       "      <td>6499</td>\n",
       "      <td>6499</td>\n",
       "      <td>6499</td>\n",
       "      <td>6499</td>\n",
       "      <td>6499</td>\n",
       "      <td>6499</td>\n",
       "      <td>6499</td>\n",
       "      <td>6499</td>\n",
       "      <td>...</td>\n",
       "      <td>6499</td>\n",
       "      <td>6499</td>\n",
       "      <td>6499</td>\n",
       "      <td>6499</td>\n",
       "      <td>6499</td>\n",
       "      <td>6499</td>\n",
       "      <td>6499</td>\n",
       "      <td>6499</td>\n",
       "      <td>6499</td>\n",
       "      <td>6499</td>\n",
       "    </tr>\n",
       "    <tr>\n",
       "      <th>unique</th>\n",
       "      <td>6</td>\n",
       "      <td>4</td>\n",
       "      <td>10</td>\n",
       "      <td>2</td>\n",
       "      <td>9</td>\n",
       "      <td>2</td>\n",
       "      <td>2</td>\n",
       "      <td>2</td>\n",
       "      <td>12</td>\n",
       "      <td>2</td>\n",
       "      <td>...</td>\n",
       "      <td>4</td>\n",
       "      <td>9</td>\n",
       "      <td>9</td>\n",
       "      <td>4</td>\n",
       "      <td>3</td>\n",
       "      <td>5</td>\n",
       "      <td>9</td>\n",
       "      <td>6</td>\n",
       "      <td>7</td>\n",
       "      <td>2</td>\n",
       "    </tr>\n",
       "    <tr>\n",
       "      <th>top</th>\n",
       "      <td>x</td>\n",
       "      <td>y</td>\n",
       "      <td>n</td>\n",
       "      <td>f</td>\n",
       "      <td>n</td>\n",
       "      <td>f</td>\n",
       "      <td>c</td>\n",
       "      <td>b</td>\n",
       "      <td>b</td>\n",
       "      <td>t</td>\n",
       "      <td>...</td>\n",
       "      <td>s</td>\n",
       "      <td>w</td>\n",
       "      <td>w</td>\n",
       "      <td>w</td>\n",
       "      <td>o</td>\n",
       "      <td>p</td>\n",
       "      <td>w</td>\n",
       "      <td>v</td>\n",
       "      <td>d</td>\n",
       "      <td>e</td>\n",
       "    </tr>\n",
       "    <tr>\n",
       "      <th>freq</th>\n",
       "      <td>2933</td>\n",
       "      <td>2592</td>\n",
       "      <td>1835</td>\n",
       "      <td>3799</td>\n",
       "      <td>2805</td>\n",
       "      <td>6323</td>\n",
       "      <td>5458</td>\n",
       "      <td>4487</td>\n",
       "      <td>1385</td>\n",
       "      <td>3679</td>\n",
       "      <td>...</td>\n",
       "      <td>3954</td>\n",
       "      <td>3565</td>\n",
       "      <td>3495</td>\n",
       "      <td>6330</td>\n",
       "      <td>6003</td>\n",
       "      <td>3180</td>\n",
       "      <td>1907</td>\n",
       "      <td>3252</td>\n",
       "      <td>2516</td>\n",
       "      <td>3353</td>\n",
       "    </tr>\n",
       "  </tbody>\n",
       "</table>\n",
       "<p>4 rows × 22 columns</p>\n",
       "</div>"
      ],
      "text/plain": [
       "       cap-shape cap-surface cap-color bruises  odor gill-attachment  \\\n",
       "count       6499        6499      6499    6499  6499            6499   \n",
       "unique         6           4        10       2     9               2   \n",
       "top            x           y         n       f     n               f   \n",
       "freq        2933        2592      1835    3799  2805            6323   \n",
       "\n",
       "       gill-spacing gill-size gill-color stalk-shape  ...  \\\n",
       "count          6499      6499       6499        6499  ...   \n",
       "unique            2         2         12           2  ...   \n",
       "top               c         b          b           t  ...   \n",
       "freq           5458      4487       1385        3679  ...   \n",
       "\n",
       "       stalk-surface-below-ring stalk-color-above-ring stalk-color-below-ring  \\\n",
       "count                      6499                   6499                   6499   \n",
       "unique                        4                      9                      9   \n",
       "top                           s                      w                      w   \n",
       "freq                       3954                   3565                   3495   \n",
       "\n",
       "       veil-color ring-number ring-type spore-print-color population habitat  \\\n",
       "count        6499        6499      6499              6499       6499    6499   \n",
       "unique          4           3         5                 9          6       7   \n",
       "top             w           o         p                 w          v       d   \n",
       "freq         6330        6003      3180              1907       3252    2516   \n",
       "\n",
       "       class  \n",
       "count   6499  \n",
       "unique     2  \n",
       "top        e  \n",
       "freq    3353  \n",
       "\n",
       "[4 rows x 22 columns]"
      ]
     },
     "execution_count": 20,
     "metadata": {},
     "output_type": "execute_result"
    }
   ],
   "source": [
    "training_data.describe()"
   ]
  },
  {
   "cell_type": "code",
   "execution_count": 21,
   "id": "70c47aff",
   "metadata": {},
   "outputs": [
    {
     "data": {
      "text/plain": [
       "<AxesSubplot:xlabel='class', ylabel='Count'>"
      ]
     },
     "execution_count": 21,
     "metadata": {},
     "output_type": "execute_result"
    },
    {
     "data": {
      "image/png": "[encoded data removed]",
      "text/plain": [
       "<Figure size 432x288 with 1 Axes>"
      ]
     },
     "metadata": {
      "needs_background": "light"
     },
     "output_type": "display_data"
    }
   ],
   "source": [
    "## check the distribution of 'class' in the training data\n",
    "sns.histplot(data=training_data, x='class')"
   ]
  },
  {
   "cell_type": "code",
   "execution_count": 22,
   "id": "8807949f",
   "metadata": {},
   "outputs": [],
   "source": [
    "## save column names of the original training dataset\n",
    "column_names = list(training_data.columns)"
   ]
  },
  {
   "cell_type": "code",
   "execution_count": 23,
   "id": "f0c0482b",
   "metadata": {},
   "outputs": [],
   "source": [
    "## binary (dummy) encoding\n",
    "dummy_enc = OneHotEncoder(drop='if_binary')\n",
    "dummy_enc.fit(training_data)\n",
    "dummy_encoded_training = dummy_enc.transform(training_data).toarray()"
   ]
  },
  {
   "cell_type": "code",
   "execution_count": 24,
   "id": "76b63317",
   "metadata": {},
   "outputs": [],
   "source": [
    "## ordinal encoding (for NB)\n",
    "ord_enc = OrdinalEncoder()\n",
    "ord_enc.fit(training_data)\n",
    "ord_encoded_training = ord_enc.transform(training_data)"
   ]
  },
  {
   "cell_type": "code",
   "execution_count": 25,
   "id": "d3080564",
   "metadata": {},
   "outputs": [
    {
     "data": {
      "text/plain": [
       "True"
      ]
     },
     "execution_count": 25,
     "metadata": {},
     "output_type": "execute_result"
    }
   ],
   "source": [
    "## check if encoding was done properly\n",
    "col_count=0\n",
    "for val in data.describe().loc[\"unique\"].values:\n",
    "    if val != 2:\n",
    "        col_count+=val\n",
    "    else:\n",
    "        col_count+=1\n",
    "        \n",
    "col_count==len(dummy_encoded_training[0])"
   ]
  },
  {
   "cell_type": "code",
   "execution_count": 26,
   "id": "3ebfcf5a",
   "metadata": {},
   "outputs": [],
   "source": [
    "#dummy_encoded_training[0]"
   ]
  },
  {
   "cell_type": "code",
   "execution_count": 27,
   "id": "93b14188",
   "metadata": {},
   "outputs": [],
   "source": [
    "## for knn\n",
    "X = dummy_encoded_training[:,:-1]\n",
    "y = dummy_encoded_training[:,-1]\n",
    "\n",
    "## for nb\n",
    "X_ord = ord_encoded_training[:,:-1]\n",
    "y_ord = ord_encoded_training[:,-1]"
   ]
  },
  {
   "cell_type": "code",
   "execution_count": 28,
   "id": "d5cfcad0",
   "metadata": {},
   "outputs": [
    {
     "data": {
      "text/plain": [
       "((4549, 111), (4549,), (1950, 111), (1950,))"
      ]
     },
     "execution_count": 28,
     "metadata": {},
     "output_type": "execute_result"
    }
   ],
   "source": [
    "## complete a simple split to training and testing (for knn)\n",
    "X_train, X_test, y_train, y_test = train_test_split(X,y,test_size=0.30, random_state=51)\n",
    "X_train.shape, y_train.shape, X_test.shape, y_test.shape"
   ]
  },
  {
   "cell_type": "code",
   "execution_count": 29,
   "id": "40588366",
   "metadata": {},
   "outputs": [
    {
     "data": {
      "text/plain": [
       "((4549, 21), (4549,), (1950, 21), (1950,))"
      ]
     },
     "execution_count": 29,
     "metadata": {},
     "output_type": "execute_result"
    }
   ],
   "source": [
    "## complete a simple split to training and testing (for nb)\n",
    "X_train_nb, X_test_nb, y_train_nb, y_test_nb = train_test_split(X_ord,y_ord,test_size=0.30, random_state=51)\n",
    "X_train_nb.shape, y_train_nb.shape, X_test_nb.shape, y_test_nb.shape"
   ]
  },
  {
   "cell_type": "code",
   "execution_count": 30,
   "id": "e630c1c8",
   "metadata": {},
   "outputs": [],
   "source": [
    "## implement k-NN\n",
    "knn = KNeighborsClassifier(n_neighbors=5)\n",
    "knn.fit(X_train,y_train)\n",
    "knn_predictions = knn.predict(X_test)"
   ]
  },
  {
   "cell_type": "code",
   "execution_count": 31,
   "id": "642328e9",
   "metadata": {},
   "outputs": [
    {
     "name": "stdout",
     "output_type": "stream",
     "text": [
      "k-NN Confusion Matrix:\n",
      " [[1019    0]\n",
      " [   0  931]]\n"
     ]
    }
   ],
   "source": [
    "## confusion matrix\n",
    "knn_conf_matrix = confusion_matrix(y_test, knn_predictions)\n",
    "print(\"k-NN Confusion Matrix:\\n\", knn_conf_matrix)"
   ]
  },
  {
   "cell_type": "code",
   "execution_count": 32,
   "id": "cea5e38d",
   "metadata": {},
   "outputs": [
    {
     "name": "stdout",
     "output_type": "stream",
     "text": [
      "k-NN Accuracy: 1.0\n"
     ]
    }
   ],
   "source": [
    "## accuracy score\n",
    "knn_acc_score = accuracy_score(y_test, knn_predictions)\n",
    "print(\"k-NN Accuracy:\", knn_acc_score)"
   ]
  },
  {
   "cell_type": "code",
   "execution_count": 33,
   "id": "fe43f50f",
   "metadata": {},
   "outputs": [],
   "source": [
    "## implement NB\n",
    "nb = CategoricalNB()\n",
    "nb.fit(X_train_nb, y_train_nb)\n",
    "nb_predictions = nb.predict(X_test_nb)"
   ]
  },
  {
   "cell_type": "code",
   "execution_count": 34,
   "id": "54cccddb",
   "metadata": {},
   "outputs": [
    {
     "name": "stdout",
     "output_type": "stream",
     "text": [
      "NB Confusion Matrix:\n",
      " [[1012    7]\n",
      " [  99  832]]\n"
     ]
    }
   ],
   "source": [
    "## confusion matrix\n",
    "nb_conf_matrix = confusion_matrix(y_test_nb, nb_predictions)\n",
    "print(\"NB Confusion Matrix:\\n\", nb_conf_matrix)"
   ]
  },
  {
   "cell_type": "code",
   "execution_count": 35,
   "id": "4e811df7",
   "metadata": {},
   "outputs": [
    {
     "name": "stdout",
     "output_type": "stream",
     "text": [
      "NB Accuracy: 0.9456410256410256\n"
     ]
    }
   ],
   "source": [
    "## accuracy score\n",
    "nb_acc_score = accuracy_score(y_test_nb, nb_predictions)\n",
    "print(\"NB Accuracy:\", nb_acc_score)"
   ]
  },
  {
   "cell_type": "code",
   "execution_count": 36,
   "id": "2234c5b4",
   "metadata": {},
   "outputs": [
    {
     "name": "stdout",
     "output_type": "stream",
     "text": [
      "NB Classification Report: \n",
      "               precision    recall  f1-score   support\n",
      "\n",
      "         0.0       0.91      0.99      0.95      1019\n",
      "         1.0       0.99      0.89      0.94       931\n",
      "\n",
      "    accuracy                           0.95      1950\n",
      "   macro avg       0.95      0.94      0.95      1950\n",
      "weighted avg       0.95      0.95      0.95      1950\n",
      "\n"
     ]
    }
   ],
   "source": [
    "## fold accuracy\n",
    "nb_fold_acc = classification_report(y_test_nb, nb_predictions)\n",
    "print(\"NB Classification Report: \\n\", nb_fold_acc)"
   ]
  },
  {
   "cell_type": "code",
   "execution_count": 37,
   "id": "193953f5",
   "metadata": {},
   "outputs": [],
   "source": [
    "#\n",
    "## what do we think of this benchmark accuracy?\n",
    "#"
   ]
  },
  {
   "cell_type": "code",
   "execution_count": 38,
   "id": "bb2730d0",
   "metadata": {},
   "outputs": [],
   "source": [
    "## encode data from nominal to numerical by using ordinal encoder\n",
    "ord_enc = OrdinalEncoder()\n",
    "ord_enc.fit(training_data)\n",
    "ord_encoded_training = ord_enc.transform(training_data)"
   ]
  },
  {
   "cell_type": "code",
   "execution_count": 39,
   "id": "3c1af80f",
   "metadata": {},
   "outputs": [],
   "source": [
    "## split into attributes and labels\n",
    "X = ord_encoded_training[:,0:-1]\n",
    "y = ord_encoded_training[:,-1]"
   ]
  },
  {
   "cell_type": "code",
   "execution_count": 40,
   "id": "9a0edd7b",
   "metadata": {},
   "outputs": [],
   "source": [
    "#ord_encoded_training"
   ]
  },
  {
   "cell_type": "code",
   "execution_count": 41,
   "id": "c0700df1",
   "metadata": {},
   "outputs": [
    {
     "data": {
      "text/plain": [
       "((4549, 21), (4549,), (1950, 21), (1950,))"
      ]
     },
     "execution_count": 41,
     "metadata": {},
     "output_type": "execute_result"
    }
   ],
   "source": [
    "## complete a simple split to training and testing\n",
    "X_train, X_test, y_train, y_test = train_test_split(X,y,test_size=0.30, random_state=51)\n",
    "X_train.shape, y_train.shape, X_test.shape, y_test.shape"
   ]
  },
  {
   "cell_type": "code",
   "execution_count": 42,
   "id": "c065fd83",
   "metadata": {},
   "outputs": [],
   "source": [
    "#\n",
    "## feature selection\n",
    "#"
   ]
  },
  {
   "cell_type": "code",
   "execution_count": 43,
   "id": "5d64e69a",
   "metadata": {},
   "outputs": [],
   "source": [
    "## chi^2\n",
    "fs = SelectKBest(score_func=chi2, k='all')\n",
    "fs.fit(X_train, y_train)\n",
    "X_train_fs = fs.transform(X_train)\n",
    "X_test_fs = fs.transform(X_test)"
   ]
  },
  {
   "cell_type": "code",
   "execution_count": 44,
   "id": "1aa1be91",
   "metadata": {},
   "outputs": [
    {
     "name": "stdout",
     "output_type": "stream",
     "text": [
      "Feature cap-shape: 16.097146\n",
      "Feature cap-surface: 131.511998\n",
      "Feature cap-color: 3.694476\n",
      "Feature bruises: 679.033702\n",
      "Feature odor: 47.484497\n",
      "Feature gill-attachment: 2.386460\n",
      "Feature gill-spacing: 456.587762\n",
      "Feature gill-size: 907.444330\n",
      "Feature gill-color: 3385.844920\n",
      "Feature stalk-shape: 23.484345\n",
      "Feature stalk-root: 661.360463\n",
      "Feature stalk-surface-above-ring: 122.680618\n",
      "Feature stalk-surface-below-ring: 113.907220\n",
      "Feature stalk-color-above-ring: 71.013750\n",
      "Feature stalk-color-below-ring: 55.566174\n",
      "Feature veil-color: 3.336602\n",
      "Feature ring-number: 12.967549\n",
      "Feature ring-type: 1077.126488\n",
      "Feature spore-print-color: 210.949349\n",
      "Feature population: 177.720801\n",
      "Feature habitat: 411.691346\n"
     ]
    }
   ],
   "source": [
    "# what are scores for the features\n",
    "for i in range(len(fs.scores_)):\n",
    "    print('Feature %s: %f' % (column_names[i], fs.scores_[i]))"
   ]
  },
  {
   "cell_type": "code",
   "execution_count": 45,
   "id": "ec6395d2",
   "metadata": {},
   "outputs": [
    {
     "data": {
      "image/png": "[encoded data removed]",
      "text/plain": [
       "<Figure size 432x288 with 1 Axes>"
      ]
     },
     "metadata": {
      "needs_background": "light"
     },
     "output_type": "display_data"
    }
   ],
   "source": [
    "# plot the scores\n",
    "plt.bar([i for i in range(len(fs.scores_))], fs.scores_)\n",
    "plt.title('Chi-Squared')\n",
    "plt.show()"
   ]
  },
  {
   "cell_type": "code",
   "execution_count": 46,
   "id": "95b65250",
   "metadata": {},
   "outputs": [],
   "source": [
    "## mutual information classification\n",
    "fs_mic = SelectKBest(score_func=mutual_info_classif, k='all')\n",
    "fs_mic.fit(X_train, y_train)\n",
    "X_train_fs_mic = fs_mic.transform(X_train)\n",
    "X_test_fs_mic = fs_mic.transform(X_test)"
   ]
  },
  {
   "cell_type": "code",
   "execution_count": 47,
   "id": "9eb2378a",
   "metadata": {},
   "outputs": [
    {
     "data": {
      "image/png": "[encoded data removed]",
      "text/plain": [
       "<Figure size 432x288 with 1 Axes>"
      ]
     },
     "metadata": {
      "needs_background": "light"
     },
     "output_type": "display_data"
    }
   ],
   "source": [
    "# plot the scores\n",
    "plt.bar([i for i in range(len(fs_mic.scores_))], fs_mic.scores_)\n",
    "plt.title('Mutual Information')\n",
    "plt.show()"
   ]
  },
  {
   "cell_type": "code",
   "execution_count": 48,
   "id": "b78c33b5",
   "metadata": {},
   "outputs": [
    {
     "name": "stdout",
     "output_type": "stream",
     "text": [
      "Feature cap-shape: 0.026703\n",
      "Feature cap-surface: 0.021197\n",
      "Feature cap-color: 0.032745\n",
      "Feature bruises: 0.125183\n",
      "Feature odor: 0.634712\n",
      "Feature gill-attachment: 0.022999\n",
      "Feature gill-spacing: 0.055047\n",
      "Feature gill-size: 0.154533\n",
      "Feature gill-color: 0.292393\n",
      "Feature stalk-shape: 0.005695\n",
      "Feature stalk-root: 0.098368\n",
      "Feature stalk-surface-above-ring: 0.195302\n",
      "Feature stalk-surface-below-ring: 0.198478\n",
      "Feature stalk-color-above-ring: 0.182833\n",
      "Feature stalk-color-below-ring: 0.152061\n",
      "Feature veil-color: 0.014890\n",
      "Feature ring-number: 0.018543\n",
      "Feature ring-type: 0.217421\n",
      "Feature spore-print-color: 0.335842\n",
      "Feature population: 0.139237\n",
      "Feature habitat: 0.111443\n"
     ]
    }
   ],
   "source": [
    "# what are scores for the features\n",
    "for i in range(len(fs_mic.scores_)):\n",
    "    print('Feature %s: %f' % (column_names[i], fs_mic.scores_[i]))"
   ]
  },
  {
   "cell_type": "code",
   "execution_count": 49,
   "id": "3a9faa6a",
   "metadata": {},
   "outputs": [],
   "source": [
    "## save the scores to a dictionary\n",
    "scores_dict = {'chi^2': fs.scores_, 'mi_score': fs_mic.scores_}"
   ]
  },
  {
   "cell_type": "code",
   "execution_count": 50,
   "id": "b41026b9",
   "metadata": {},
   "outputs": [],
   "source": [
    "## create a dataframe for scores\n",
    "scores_df = pd.DataFrame(scores_dict, index=column_names[:-1])"
   ]
  },
  {
   "cell_type": "code",
   "execution_count": 51,
   "id": "27300ea1",
   "metadata": {},
   "outputs": [
    {
     "data": {
      "text/html": [
       "<div>\n",
       "<style scoped>\n",
       "    .dataframe tbody tr th:only-of-type {\n",
       "        vertical-align: middle;\n",
       "    }\n",
       "\n",
       "    .dataframe tbody tr th {\n",
       "        vertical-align: top;\n",
       "    }\n",
       "\n",
       "    .dataframe thead th {\n",
       "        text-align: right;\n",
       "    }\n",
       "</style>\n",
       "<table border=\"1\" class=\"dataframe\">\n",
       "  <thead>\n",
       "    <tr style=\"text-align: right;\">\n",
       "      <th></th>\n",
       "      <th>chi^2</th>\n",
       "      <th>mi_score</th>\n",
       "    </tr>\n",
       "  </thead>\n",
       "  <tbody>\n",
       "    <tr>\n",
       "      <th>cap-shape</th>\n",
       "      <td>16.097146</td>\n",
       "      <td>0.026703</td>\n",
       "    </tr>\n",
       "    <tr>\n",
       "      <th>cap-surface</th>\n",
       "      <td>131.511998</td>\n",
       "      <td>0.021197</td>\n",
       "    </tr>\n",
       "    <tr>\n",
       "      <th>cap-color</th>\n",
       "      <td>3.694476</td>\n",
       "      <td>0.032745</td>\n",
       "    </tr>\n",
       "    <tr>\n",
       "      <th>bruises</th>\n",
       "      <td>679.033702</td>\n",
       "      <td>0.125183</td>\n",
       "    </tr>\n",
       "    <tr>\n",
       "      <th>odor</th>\n",
       "      <td>47.484497</td>\n",
       "      <td>0.634712</td>\n",
       "    </tr>\n",
       "    <tr>\n",
       "      <th>gill-attachment</th>\n",
       "      <td>2.386460</td>\n",
       "      <td>0.022999</td>\n",
       "    </tr>\n",
       "    <tr>\n",
       "      <th>gill-spacing</th>\n",
       "      <td>456.587762</td>\n",
       "      <td>0.055047</td>\n",
       "    </tr>\n",
       "    <tr>\n",
       "      <th>gill-size</th>\n",
       "      <td>907.444330</td>\n",
       "      <td>0.154533</td>\n",
       "    </tr>\n",
       "    <tr>\n",
       "      <th>gill-color</th>\n",
       "      <td>3385.844920</td>\n",
       "      <td>0.292393</td>\n",
       "    </tr>\n",
       "    <tr>\n",
       "      <th>stalk-shape</th>\n",
       "      <td>23.484345</td>\n",
       "      <td>0.005695</td>\n",
       "    </tr>\n",
       "    <tr>\n",
       "      <th>stalk-root</th>\n",
       "      <td>661.360463</td>\n",
       "      <td>0.098368</td>\n",
       "    </tr>\n",
       "    <tr>\n",
       "      <th>stalk-surface-above-ring</th>\n",
       "      <td>122.680618</td>\n",
       "      <td>0.195302</td>\n",
       "    </tr>\n",
       "    <tr>\n",
       "      <th>stalk-surface-below-ring</th>\n",
       "      <td>113.907220</td>\n",
       "      <td>0.198478</td>\n",
       "    </tr>\n",
       "    <tr>\n",
       "      <th>stalk-color-above-ring</th>\n",
       "      <td>71.013750</td>\n",
       "      <td>0.182833</td>\n",
       "    </tr>\n",
       "    <tr>\n",
       "      <th>stalk-color-below-ring</th>\n",
       "      <td>55.566174</td>\n",
       "      <td>0.152061</td>\n",
       "    </tr>\n",
       "    <tr>\n",
       "      <th>veil-color</th>\n",
       "      <td>3.336602</td>\n",
       "      <td>0.014890</td>\n",
       "    </tr>\n",
       "    <tr>\n",
       "      <th>ring-number</th>\n",
       "      <td>12.967549</td>\n",
       "      <td>0.018543</td>\n",
       "    </tr>\n",
       "    <tr>\n",
       "      <th>ring-type</th>\n",
       "      <td>1077.126488</td>\n",
       "      <td>0.217421</td>\n",
       "    </tr>\n",
       "    <tr>\n",
       "      <th>spore-print-color</th>\n",
       "      <td>210.949349</td>\n",
       "      <td>0.335842</td>\n",
       "    </tr>\n",
       "    <tr>\n",
       "      <th>population</th>\n",
       "      <td>177.720801</td>\n",
       "      <td>0.139237</td>\n",
       "    </tr>\n",
       "    <tr>\n",
       "      <th>habitat</th>\n",
       "      <td>411.691346</td>\n",
       "      <td>0.111443</td>\n",
       "    </tr>\n",
       "  </tbody>\n",
       "</table>\n",
       "</div>"
      ],
      "text/plain": [
       "                                chi^2  mi_score\n",
       "cap-shape                   16.097146  0.026703\n",
       "cap-surface                131.511998  0.021197\n",
       "cap-color                    3.694476  0.032745\n",
       "bruises                    679.033702  0.125183\n",
       "odor                        47.484497  0.634712\n",
       "gill-attachment              2.386460  0.022999\n",
       "gill-spacing               456.587762  0.055047\n",
       "gill-size                  907.444330  0.154533\n",
       "gill-color                3385.844920  0.292393\n",
       "stalk-shape                 23.484345  0.005695\n",
       "stalk-root                 661.360463  0.098368\n",
       "stalk-surface-above-ring   122.680618  0.195302\n",
       "stalk-surface-below-ring   113.907220  0.198478\n",
       "stalk-color-above-ring      71.013750  0.182833\n",
       "stalk-color-below-ring      55.566174  0.152061\n",
       "veil-color                   3.336602  0.014890\n",
       "ring-number                 12.967549  0.018543\n",
       "ring-type                 1077.126488  0.217421\n",
       "spore-print-color          210.949349  0.335842\n",
       "population                 177.720801  0.139237\n",
       "habitat                    411.691346  0.111443"
      ]
     },
     "execution_count": 51,
     "metadata": {},
     "output_type": "execute_result"
    }
   ],
   "source": [
    "scores_df"
   ]
  },
  {
   "cell_type": "code",
   "execution_count": 52,
   "id": "1daa7a5d",
   "metadata": {},
   "outputs": [],
   "source": [
    "## currently have 21 features\n",
    "## -> get subsets of k={15, 10, 8, 5, 3} best using both scores"
   ]
  },
  {
   "cell_type": "code",
   "execution_count": 53,
   "id": "0a3e87a7",
   "metadata": {},
   "outputs": [],
   "source": [
    "## select subsets of best performing features\n",
    "\n",
    "selected_features=[np.zeros(21)]\n",
    "for k in [15,10,8,5,3]:\n",
    "    for n in range(21,k,-1):\n",
    "        chi_list = list(scores_df.nlargest(columns=['chi^2'],n=n).index)\n",
    "        mic_list = list(scores_df.nlargest(columns=['mi_score'],n=n).index)\n",
    "        intersection = [feat for feat in chi_list if feat in mic_list]\n",
    "        if len(intersection)==k:\n",
    "            selected_features.append(intersection)\n",
    "        \n",
    "        \n",
    "        ## problem seems to be with k={10,8}\n",
    "        ## -> solve heuristically\n",
    "        else:\n",
    "            new_mic_list = list(scores_df.nlargest(columns=['mi_score'],n=n+1).index)\n",
    "            new_intersection = [feat for feat in chi_list if feat in new_mic_list]\n",
    "            if len(new_intersection)==k:\n",
    "                selected_features.append(new_intersection)\n",
    "                \n",
    "## delete duplicates\n",
    "selected_features = [selected_features[i] for i in range(1,len(selected_features)) if len(selected_features[i])<len(selected_features[i-1])]\n",
    "\n",
    "## reverse\n",
    "selected_features_rvrsd = selected_features[::-1]\n",
    "\n",
    "## add all features to the end and spin\n",
    "selected_features_rvrsd.append(column_names[:-1])\n",
    "selected_features = selected_features_rvrsd[::-1]"
   ]
  },
  {
   "cell_type": "code",
   "execution_count": 54,
   "id": "fb5d3a72",
   "metadata": {},
   "outputs": [
    {
     "name": "stdout",
     "output_type": "stream",
     "text": [
      "21\n",
      "15\n",
      "10\n",
      "8\n",
      "5\n",
      "3\n"
     ]
    }
   ],
   "source": [
    "## make sure have all subsets\n",
    "for k_best in selected_features:\n",
    "    print(len(k_best))"
   ]
  },
  {
   "cell_type": "code",
   "execution_count": 55,
   "id": "8a2314d6",
   "metadata": {},
   "outputs": [
    {
     "data": {
      "text/plain": [
       "['gill-color', 'ring-type', 'gill-size', 'spore-print-color', 'population']"
      ]
     },
     "execution_count": 55,
     "metadata": {},
     "output_type": "execute_result"
    }
   ],
   "source": [
    "## selected top 5 features\n",
    "selected_features[-2]"
   ]
  },
  {
   "cell_type": "code",
   "execution_count": 56,
   "id": "3620833b",
   "metadata": {},
   "outputs": [],
   "source": [
    "#\n",
    "## cross-validate with k={all, 15, 10, 8, 5, 3} features and see how scores differ on average using each algorithm\n",
    "#"
   ]
  },
  {
   "cell_type": "code",
   "execution_count": 57,
   "id": "3bc12863",
   "metadata": {},
   "outputs": [],
   "source": [
    "## y (label/output) is constant\n",
    "y = training_data.iloc[:,-1]\n",
    "\n",
    "nb_averages = []\n",
    "knn_averages = []\n",
    "dt_averages = []\n",
    "\n",
    "## get X (inputs)\n",
    "for k_select_feat in selected_features:\n",
    "    X = training_data[k_select_feat]\n",
    "    #print(X.shape, y.shape)\n",
    "    \n",
    "    ## encode X and y\n",
    "    ## binary (dummy) encoding\n",
    "    enc = OneHotEncoder(drop='if_binary')\n",
    "    enc.fit(X)\n",
    "    encoded_X = enc.transform(X).toarray()\n",
    "    \n",
    "    ## for nb\n",
    "    ord_enc = OrdinalEncoder()\n",
    "    ord_enc.fit(X)\n",
    "    ord_encoded_X = ord_enc.transform(X)\n",
    "    \n",
    "    le = LabelEncoder()\n",
    "    le.fit(y)\n",
    "    encoded_y = le.transform(y)\n",
    "    \n",
    "    #print(encoded_X.shape, encoded_y.shape)\n",
    "    \n",
    "    # implementing 10 fold cross validation\n",
    "\n",
    "    k=10\n",
    "    kf = KFold(n_splits=k, shuffle=True, random_state=0)\n",
    "    \n",
    "    nb = CategoricalNB()\n",
    "    knn = KNeighborsClassifier(n_neighbors=5)\n",
    "    dt = tree.DecisionTreeClassifier(random_state=0, max_depth=5)\n",
    "    \n",
    "    #model = tree.DecisionTreeClassifier(random_state=0, max_depth=5)\n",
    "    num_feat = len(k_select_feat)\n",
    "\n",
    "    #acc_score = []\n",
    "    nb_acc_score = []\n",
    "    knn_acc_score = []\n",
    "    dt_acc_score = []\n",
    "\n",
    "    for train_index, test_index in kf.split(X):\n",
    "        X_train, X_test = encoded_X[train_index,:], encoded_X[test_index,:]\n",
    "        y_train, y_test = encoded_y[train_index], encoded_y[test_index]\n",
    "        \n",
    "        X_train_nb, X_test_nb = ord_encoded_X[train_index,:], ord_encoded_X[test_index,:]\n",
    "        #y_train_nb, y_test_nb = ord_encoded_y[train_index], ord_encoded_y[test_index]\n",
    "\n",
    "        nb.fit(X_train_nb,y_train)\n",
    "        knn.fit(X_train,y_train)\n",
    "        dt.fit(X_train,y_train)\n",
    "        \n",
    "        #predictions = knn.predict(X_test)\n",
    "        nb_predictions = nb.predict(X_test_nb)\n",
    "        knn_predictions = knn.predict(X_test)\n",
    "        dt_predictions = dt.predict(X_test)\n",
    "\n",
    "        #accuracy = accuracy_score(predictions, y_test)\n",
    "        nb_accuracy = accuracy_score(nb_predictions, y_test)\n",
    "        knn_accuracy = accuracy_score(knn_predictions, y_test)\n",
    "        dt_accuracy = accuracy_score(dt_predictions, y_test)\n",
    "        \n",
    "        #acc_score.append(accuracy)\n",
    "        nb_acc_score.append(nb_accuracy)\n",
    "        knn_acc_score.append(knn_accuracy)\n",
    "        dt_acc_score.append(dt_accuracy)\n",
    "\n",
    "    #avg_acc_score = sum(acc_score)/k\n",
    "    nb_avg_acc_score = sum(nb_acc_score)/k\n",
    "    knn_avg_acc_score = sum(knn_acc_score)/k\n",
    "    dt_avg_acc_score = sum(dt_acc_score)/k\n",
    "    \n",
    "    nb_averages.append(nb_avg_acc_score)\n",
    "    knn_averages.append(knn_avg_acc_score)\n",
    "    dt_averages.append(dt_avg_acc_score)\n",
    "\n",
    "    #print('accuracy of each fold - {}'.format(acc_score))\n",
    "    #print('{}'.format(dt),'with {} features;'.format(num_feat),'avg accuracy : {}'.format(dt_avg_acc_score))\n"
   ]
  },
  {
   "cell_type": "code",
   "execution_count": 58,
   "id": "a90d70e4",
   "metadata": {},
   "outputs": [
    {
     "data": {
      "image/png": "[encoded data removed]",
      "text/plain": [
       "<Figure size 432x288 with 1 Axes>"
      ]
     },
     "metadata": {
      "needs_background": "light"
     },
     "output_type": "display_data"
    }
   ],
   "source": [
    "## visualize test results\n",
    "plt.plot([21,15,10,8,5,3],nb_averages, c='grey', label='NB')\n",
    "plt.plot([21,15,10,8,5,3],knn_averages, c='blue', label='kNN')\n",
    "plt.plot([21,15,10,8,5,3],dt_averages, c='red', label='DT')\n",
    "\n",
    "plt.title('Accuracy vs. Number of Features')\n",
    "plt.xlabel('Number of Features')\n",
    "plt.ylabel('Avg Accuracy on 10-Fold CV')\n",
    "plt.legend()\n",
    "\n",
    "plt.show()"
   ]
  },
  {
   "cell_type": "code",
   "execution_count": 59,
   "id": "4fd50f20",
   "metadata": {},
   "outputs": [],
   "source": [
    "### NEXT\n",
    "## test knn vs dt w/ 5 and 15 feats\n",
    "## plot conf matrixes and assign cost for falsely predicting a poisonous mushroom as edible"
   ]
  },
  {
   "cell_type": "code",
   "execution_count": 60,
   "id": "1c714112",
   "metadata": {},
   "outputs": [],
   "source": [
    "def cross_val_predict(model, kfold : KFold, X : np.array, y : np.array) -> Tuple[np.array, np.array, np.array]:\n",
    "\n",
    "    model_ = cp.deepcopy(model)\n",
    "    \n",
    "    no_classes = len(np.unique(y))\n",
    "    \n",
    "    actual_classes = np.empty([0], dtype=int)\n",
    "    predicted_classes = np.empty([0], dtype=int)\n",
    "    predicted_proba = np.empty([0, no_classes]) \n",
    "\n",
    "    for train_ndx, test_ndx in kfold.split(X):\n",
    "\n",
    "        train_X, train_y, test_X, test_y = X[train_ndx], y[train_ndx], X[test_ndx], y[test_ndx]\n",
    "\n",
    "        actual_classes = np.append(actual_classes, test_y)\n",
    "\n",
    "        model_.fit(train_X, train_y)\n",
    "        predicted_classes = np.append(predicted_classes, model_.predict(test_X))\n",
    "\n",
    "        try:\n",
    "            predicted_proba = np.append(predicted_proba, model_.predict_proba(test_X), axis=0)\n",
    "        except:\n",
    "            predicted_proba = np.append(predicted_proba, np.zeros((len(test_X), no_classes), dtype=float), axis=0)\n",
    "\n",
    "    return actual_classes, predicted_classes, predicted_proba"
   ]
  },
  {
   "cell_type": "code",
   "execution_count": 61,
   "id": "ea8ad183",
   "metadata": {},
   "outputs": [],
   "source": [
    "def plot_confusion_matrix(actual_classes : np.array, predicted_classes : np.array, sorted_labels : list):\n",
    "\n",
    "    matrix = confusion_matrix(actual_classes, predicted_classes, labels=sorted_labels)\n",
    "    \n",
    "    plt.figure(figsize=(12.8,6))\n",
    "    sns.heatmap(matrix, annot=True, xticklabels=sorted_labels, yticklabels=sorted_labels, cmap=\"Blues\", fmt=\"g\")\n",
    "    plt.xlabel('Predicted'); plt.ylabel('Actual'); plt.title('Confusion Matrix')\n",
    "\n",
    "    plt.show()"
   ]
  },
  {
   "cell_type": "code",
   "execution_count": 62,
   "id": "08a1da64",
   "metadata": {},
   "outputs": [
    {
     "data": {
      "text/plain": [
       "((1625, 22), (6499, 22))"
      ]
     },
     "execution_count": 62,
     "metadata": {},
     "output_type": "execute_result"
    }
   ],
   "source": [
    "## get encoded training with 5 and 15 features\n",
    "validation_data.shape, training_data.shape"
   ]
  },
  {
   "cell_type": "code",
   "execution_count": 63,
   "id": "60948cc2",
   "metadata": {},
   "outputs": [],
   "source": [
    "five_feat = selected_features[-2]\n",
    "fifteen_feat = selected_features[-5]\n",
    "\n",
    "X_5 = training_data[five_feat]\n",
    "X_15 = training_data[fifteen_feat]\n",
    "\n",
    "y = training_data.iloc[:,-1]\n",
    "\n",
    "## encode X's and y\n",
    "\n",
    "## binary (dummy) encoding\n",
    "enc = OneHotEncoder(drop='if_binary')\n",
    "enc.fit(X_5)\n",
    "encoded_X_5 = enc.transform(X_5).toarray()\n",
    "\n",
    "enc2 = OneHotEncoder(drop='if_binary')\n",
    "enc2.fit(X_15)\n",
    "encoded_X_15 = enc2.transform(X_15).toarray()\n",
    "\n",
    "le = LabelEncoder()\n",
    "le.fit(y)\n",
    "encoded_y = le.transform(y)"
   ]
  },
  {
   "cell_type": "code",
   "execution_count": 64,
   "id": "1113bd66",
   "metadata": {},
   "outputs": [],
   "source": [
    "knn = KNeighborsClassifier(n_neighbors=5)\n",
    "dt = tree.DecisionTreeClassifier(random_state=0, max_depth=5)\n",
    "\n",
    "kfold = KFold(n_splits=10, shuffle=True, random_state=51)"
   ]
  },
  {
   "cell_type": "code",
   "execution_count": 65,
   "id": "61d2aaf8",
   "metadata": {
    "scrolled": true
   },
   "outputs": [
    {
     "data": {
      "image/png": "[encoded data removed]",
      "text/plain": [
       "<Figure size 921.6x432 with 2 Axes>"
      ]
     },
     "metadata": {
      "needs_background": "light"
     },
     "output_type": "display_data"
    }
   ],
   "source": [
    "actual_classes, predicted_classes, _ = cross_val_predict(knn, kfold, encoded_X_5, encoded_y)\n",
    "plot_confusion_matrix(actual_classes, predicted_classes, [0,1])"
   ]
  },
  {
   "cell_type": "code",
   "execution_count": 66,
   "id": "0d236df4",
   "metadata": {},
   "outputs": [
    {
     "data": {
      "text/plain": [
       "e    3353\n",
       "p    3146\n",
       "Name: class, dtype: int64"
      ]
     },
     "execution_count": 66,
     "metadata": {},
     "output_type": "execute_result"
    }
   ],
   "source": [
    "y.value_counts()"
   ]
  },
  {
   "cell_type": "code",
   "execution_count": 67,
   "id": "a6cb4474",
   "metadata": {},
   "outputs": [
    {
     "name": "stdout",
     "output_type": "stream",
     "text": [
      "KNeighborsClassifier()\n",
      " Classification Report: \n",
      "               precision    recall  f1-score   support\n",
      "\n",
      "           0       0.99      0.98      0.98      3353\n",
      "           1       0.98      0.99      0.98      3146\n",
      "\n",
      "    accuracy                           0.98      6499\n",
      "   macro avg       0.98      0.98      0.98      6499\n",
      "weighted avg       0.98      0.98      0.98      6499\n",
      "\n"
     ]
    }
   ],
   "source": [
    "## aggregated classification report\n",
    "report = classification_report(actual_classes, predicted_classes)\n",
    "print(\"{}\\n\".format(knn),\"Classification Report: \\n\", report)"
   ]
  },
  {
   "cell_type": "code",
   "execution_count": 68,
   "id": "eb0d9d20",
   "metadata": {},
   "outputs": [
    {
     "name": "stdout",
     "output_type": "stream",
     "text": [
      "KNeighborsClassifier()\n",
      " Accuracy: 0.983997538082782\n"
     ]
    }
   ],
   "source": [
    "## accuracy score\n",
    "acc_score = accuracy_score(actual_classes, predicted_classes)\n",
    "print(\"{}\\n\".format(knn),\"Accuracy:\", acc_score)"
   ]
  },
  {
   "cell_type": "code",
   "execution_count": 69,
   "id": "c390724d",
   "metadata": {},
   "outputs": [
    {
     "data": {
      "image/png": "[encoded data removed]",
      "text/plain": [
       "<Figure size 921.6x432 with 2 Axes>"
      ]
     },
     "metadata": {
      "needs_background": "light"
     },
     "output_type": "display_data"
    }
   ],
   "source": [
    "actual_classes, predicted_classes, _ = cross_val_predict(dt, kfold, encoded_X_5, encoded_y)\n",
    "plot_confusion_matrix(actual_classes, predicted_classes, [0,1])"
   ]
  },
  {
   "cell_type": "code",
   "execution_count": 70,
   "id": "f08ea3ed",
   "metadata": {},
   "outputs": [
    {
     "name": "stdout",
     "output_type": "stream",
     "text": [
      "DecisionTreeClassifier(max_depth=5, random_state=0)\n",
      " Classification Report: \n",
      "               precision    recall  f1-score   support\n",
      "\n",
      "           0       1.00      0.96      0.98      3353\n",
      "           1       0.96      1.00      0.98      3146\n",
      "\n",
      "    accuracy                           0.98      6499\n",
      "   macro avg       0.98      0.98      0.98      6499\n",
      "weighted avg       0.98      0.98      0.98      6499\n",
      "\n"
     ]
    }
   ],
   "source": [
    "## aggregated classification report\n",
    "report = classification_report(actual_classes, predicted_classes)\n",
    "print(\"{}\\n\".format(dt),\"Classification Report: \\n\", report)"
   ]
  },
  {
   "cell_type": "code",
   "execution_count": 71,
   "id": "de402202",
   "metadata": {},
   "outputs": [
    {
     "name": "stdout",
     "output_type": "stream",
     "text": [
      "DecisionTreeClassifier(max_depth=5, random_state=0)\n",
      " Accuracy: 0.9806124019079858\n"
     ]
    }
   ],
   "source": [
    "## accuracy score\n",
    "acc_score = accuracy_score(actual_classes, predicted_classes)\n",
    "print(\"{}\\n\".format(dt),\"Accuracy:\", acc_score)"
   ]
  },
  {
   "cell_type": "code",
   "execution_count": 72,
   "id": "5dd7e9cd",
   "metadata": {},
   "outputs": [],
   "source": [
    "#\n",
    "## with the cost for falsely prediciting a mushroom to be edible when it's poisonous, \n",
    "## dt model is to be chosen from the two as the final model\n",
    "#"
   ]
  },
  {
   "cell_type": "code",
   "execution_count": 73,
   "id": "78452a67",
   "metadata": {},
   "outputs": [
    {
     "data": {
      "text/plain": [
       "((6499, 33), (6499,), (1625, 33), (1625,))"
      ]
     },
     "execution_count": 73,
     "metadata": {},
     "output_type": "execute_result"
    }
   ],
   "source": [
    "## train with all the training data and test on validation data\n",
    "train_X_5 = training_data[five_feat]\n",
    "train_y = training_data.iloc[:,-1]\n",
    "\n",
    "valid_X_5 = validation_data[five_feat]\n",
    "valid_y = validation_data.iloc[:,-1]\n",
    "\n",
    "## encode X's and y\n",
    "\n",
    "## binary (dummy) encoding\n",
    "enc = OneHotEncoder(drop='if_binary')\n",
    "\n",
    "## fit with training, transform both\n",
    "enc.fit(train_X_5)\n",
    "enc_train_X_5 = enc.transform(train_X_5).toarray()\n",
    "enc_valid_X_5 = enc.transform(valid_X_5).toarray()\n",
    "\n",
    "\n",
    "le = LabelEncoder()\n",
    "le.fit(train_y)\n",
    "enc_train_y = le.transform(train_y)\n",
    "enc_valid_y = le.transform(valid_y)\n",
    "\n",
    "## training data\n",
    "enc_train_X_5.shape, enc_train_y.shape, enc_valid_X_5.shape, enc_valid_y.shape"
   ]
  },
  {
   "cell_type": "code",
   "execution_count": 74,
   "id": "c5507b9b",
   "metadata": {},
   "outputs": [
    {
     "data": {
      "text/plain": [
       "DecisionTreeClassifier(max_depth=5, random_state=0)"
      ]
     },
     "execution_count": 74,
     "metadata": {},
     "output_type": "execute_result"
    }
   ],
   "source": [
    "## implement final model\n",
    "final_dt = tree.DecisionTreeClassifier(random_state=0, max_depth=5)\n",
    "final_dt.fit(enc_train_X_5, enc_train_y)"
   ]
  },
  {
   "cell_type": "code",
   "execution_count": 75,
   "id": "b4abf157",
   "metadata": {},
   "outputs": [
    {
     "data": {
      "text/plain": [
       "[Text(200.88000000000002, 199.32, 'X[17] <= 0.5\\ngini = 0.499\\nsamples = 6499\\nvalue = [3353, 3146]'),\n",
       " Text(133.92000000000002, 163.07999999999998, 'X[19] <= 0.5\\ngini = 0.422\\nsamples = 4487\\nvalue = [3131, 1356]'),\n",
       " Text(100.44000000000001, 126.83999999999999, 'X[23] <= 0.5\\ngini = 0.051\\nsamples = 3215\\nvalue = [3131, 84]'),\n",
       " Text(66.96000000000001, 90.6, 'X[15] <= 0.5\\ngini = 0.018\\nsamples = 3160\\nvalue = [3131, 29]'),\n",
       " Text(33.480000000000004, 54.359999999999985, 'gini = 0.0\\nsamples = 3131\\nvalue = [3131, 0]'),\n",
       " Text(100.44000000000001, 54.359999999999985, 'gini = 0.0\\nsamples = 29\\nvalue = [0, 29]'),\n",
       " Text(133.92000000000002, 90.6, 'gini = 0.0\\nsamples = 55\\nvalue = [0, 55]'),\n",
       " Text(167.40000000000003, 126.83999999999999, 'gini = 0.0\\nsamples = 1272\\nvalue = [0, 1272]'),\n",
       " Text(267.84000000000003, 163.07999999999998, 'X[0] <= 0.5\\ngini = 0.196\\nsamples = 2012\\nvalue = [222, 1790]'),\n",
       " Text(234.36, 126.83999999999999, 'X[30] <= 0.5\\ngini = 0.457\\nsamples = 627\\nvalue = [222, 405]'),\n",
       " Text(200.88000000000002, 90.6, 'X[32] <= 0.5\\ngini = 0.5\\nsamples = 445\\nvalue = [222, 223]'),\n",
       " Text(167.40000000000003, 54.359999999999985, 'X[24] <= 0.5\\ngini = 0.49\\nsamples = 391\\nvalue = [168, 223]'),\n",
       " Text(133.92000000000002, 18.119999999999976, 'gini = 0.464\\nsamples = 352\\nvalue = [129, 223]'),\n",
       " Text(200.88000000000002, 18.119999999999976, 'gini = 0.0\\nsamples = 39\\nvalue = [39, 0]'),\n",
       " Text(234.36, 54.359999999999985, 'gini = 0.0\\nsamples = 54\\nvalue = [54, 0]'),\n",
       " Text(267.84000000000003, 90.6, 'gini = 0.0\\nsamples = 182\\nvalue = [0, 182]'),\n",
       " Text(301.32000000000005, 126.83999999999999, 'gini = 0.0\\nsamples = 1385\\nvalue = [0, 1385]')]"
      ]
     },
     "execution_count": 75,
     "metadata": {},
     "output_type": "execute_result"
    },
    {
     "data": {
      "image/png": "[encoded data removed]",
      "text/plain": [
       "<Figure size 432x288 with 1 Axes>"
      ]
     },
     "metadata": {
      "needs_background": "light"
     },
     "output_type": "display_data"
    }
   ],
   "source": [
    "## visualize the final dt\n",
    "tree.plot_tree(final_dt)"
   ]
  },
  {
   "cell_type": "code",
   "execution_count": 76,
   "id": "27108f8d",
   "metadata": {},
   "outputs": [],
   "source": [
    "## test the final dt model\n",
    "predictions = final_dt.predict(enc_valid_X_5)"
   ]
  },
  {
   "cell_type": "code",
   "execution_count": 77,
   "id": "53808787",
   "metadata": {},
   "outputs": [
    {
     "name": "stdout",
     "output_type": "stream",
     "text": [
      "Confusion Matrix:\n",
      " [[816  39]\n",
      " [  0 770]]\n"
     ]
    }
   ],
   "source": [
    "## confusion matrix\n",
    "conf_matrix = confusion_matrix(enc_valid_y, predictions)\n",
    "print(\"Confusion Matrix:\\n\", conf_matrix)"
   ]
  },
  {
   "cell_type": "code",
   "execution_count": 78,
   "id": "5c84c6bd",
   "metadata": {},
   "outputs": [
    {
     "name": "stdout",
     "output_type": "stream",
     "text": [
      "\n",
      " Classification Report: \n",
      "               precision    recall  f1-score   support\n",
      "\n",
      "           0       1.00      0.95      0.98       855\n",
      "           1       0.95      1.00      0.98       770\n",
      "\n",
      "    accuracy                           0.98      1625\n",
      "   macro avg       0.98      0.98      0.98      1625\n",
      "weighted avg       0.98      0.98      0.98      1625\n",
      "\n"
     ]
    }
   ],
   "source": [
    "## classification report\n",
    "report = classification_report(enc_valid_y, predictions)\n",
    "print(\"\\n Classification Report: \\n\", report)"
   ]
  },
  {
   "cell_type": "code",
   "execution_count": 79,
   "id": "c16b0d46",
   "metadata": {},
   "outputs": [
    {
     "name": "stdout",
     "output_type": "stream",
     "text": [
      "Accuracy: 0.976\n"
     ]
    }
   ],
   "source": [
    "## accuracy score\n",
    "acc_score = accuracy_score(enc_valid_y, predictions)\n",
    "print(\"Accuracy:\", acc_score)"
   ]
  },
  {
   "cell_type": "code",
   "execution_count": 80,
   "id": "9e9493d8",
   "metadata": {},
   "outputs": [],
   "source": [
    "## ROC curve of the final model\n",
    "\n",
    "# define metrics\n",
    "y_pred_probab = final_dt.predict_proba(enc_valid_X_5)[::,1]\n",
    "fpr, tpr, _ = metrics.roc_curve(enc_valid_y,  y_pred_probab)\n",
    "auc = metrics.roc_auc_score(enc_valid_y, y_pred_probab)"
   ]
  },
  {
   "cell_type": "code",
   "execution_count": 81,
   "id": "f9c6d5c7",
   "metadata": {},
   "outputs": [
    {
     "data": {
      "image/png": "[encoded data removed]",
      "text/plain": [
       "<Figure size 432x288 with 1 Axes>"
      ]
     },
     "metadata": {
      "needs_background": "light"
     },
     "output_type": "display_data"
    }
   ],
   "source": [
    "# create ROC curve\n",
    "plt.plot(fpr,tpr,label=\"AUC=\"+str(auc))\n",
    "plt.ylabel('True Positive Rate')\n",
    "plt.xlabel('False Positive Rate')\n",
    "plt.legend(loc=4)\n",
    "\n",
    "plt.title(\"Final DT Model ROC Curve\")\n",
    "plt.show()"
   ]
  },
  {
   "cell_type": "code",
   "execution_count": 83,
   "id": "0364be9d",
   "metadata": {},
   "outputs": [
    {
     "data": {
      "text/plain": [
       "33"
      ]
     },
     "execution_count": 83,
     "metadata": {},
     "output_type": "execute_result"
    }
   ],
   "source": [
    "## number of attributes with 5 dummy encoded variables\n",
    "len(enc_valid_X_5[0])"
   ]
  }
 ],
 "metadata": {
  "kernelspec": {
   "display_name": "Python 3 (ipykernel)",
   "language": "python",
   "name": "python3"
  },
  "language_info": {
   "codemirror_mode": {
    "name": "ipython",
    "version": 3
   },
   "file_extension": ".py",
   "mimetype": "text/x-python",
   "name": "python",
   "nbconvert_exporter": "python",
   "pygments_lexer": "ipython3",
   "version": "3.9.7"
  }
 },
 "nbformat": 4,
 "nbformat_minor": 5
}
